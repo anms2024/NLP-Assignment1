{
  "nbformat": 4,
  "nbformat_minor": 0,
  "metadata": {
    "colab": {
      "provenance": [],
      "authorship_tag": "ABX9TyOB0fZhubiva+A97mpuOqVg",
      "include_colab_link": true
    },
    "kernelspec": {
      "name": "python3",
      "display_name": "Python 3"
    },
    "language_info": {
      "name": "python"
    }
  },
  "cells": [
    {
      "cell_type": "markdown",
      "metadata": {
        "id": "view-in-github",
        "colab_type": "text"
      },
      "source": [
        "<a href=\"https://colab.research.google.com/github/anms2024/NLP-Assignment1/blob/create/NLP_Assignment1.ipynb\" target=\"_parent\"><img src=\"https://colab.research.google.com/assets/colab-badge.svg\" alt=\"Open In Colab\"/></a>"
      ]
    },
    {
      "cell_type": "markdown",
      "source": [
        "NLP Assignment\n",
        "Team Members\n",
        "\n",
        "\n",
        "1.   M.S.Anjana\n",
        "2.   List item\n",
        "\n"
      ],
      "metadata": {
        "id": "2lCR5xQnSqOA"
      }
    },
    {
      "cell_type": "markdown",
      "source": [
        "Problem Statement\n",
        "Part I\n",
        "Sentence comparison using N-gram: (3 Marks)\n",
        "Let a search engine powered by language model recommend which of the below\n",
        "sentences are most relevant w.r.t to given training corpus. Design a probabilistic language\n",
        "model to compare below test sentences for recommendation using bigram. Use all the instances\n",
        "in the dataset as a training corpus.\n",
        "Test Sentence 1: “Petter Mattei's 'Love in the Time of Money' is a visually stunning film to\n",
        "watch.”\n",
        "Test Sentence 2: “I sure would like to see a resurrection of an updated Seahunt series with the\n",
        "tech they have today”"
      ],
      "metadata": {
        "id": "vJOmr4IBVldW"
      }
    },
    {
      "cell_type": "markdown",
      "source": [
        "Import Library"
      ],
      "metadata": {
        "id": "L2XZbLaQSxU2"
      }
    },
    {
      "cell_type": "code",
      "execution_count": 20,
      "metadata": {
        "id": "jzSofLQJPgYb"
      },
      "outputs": [],
      "source": [
        "import pandas as pd\n",
        "import nltk\n",
        "from collections import defaultdict\n",
        "from nltk import bigrams, trigrams\n"
      ]
    },
    {
      "cell_type": "code",
      "source": [
        "# Download necessary resources from NLTK\n",
        "nltk.download('punkt_tab')\n",
        "nltk.download('stopwords')\n",
        "nltk.download('wordnet')"
      ],
      "metadata": {
        "colab": {
          "base_uri": "https://localhost:8080/"
        },
        "id": "s_CFeqPusdtp",
        "outputId": "c689a788-6486-49b5-c31b-0d3e26db1f30"
      },
      "execution_count": 44,
      "outputs": [
        {
          "output_type": "stream",
          "name": "stderr",
          "text": [
            "[nltk_data] Downloading package punkt_tab to /root/nltk_data...\n",
            "[nltk_data]   Unzipping tokenizers/punkt_tab.zip.\n",
            "[nltk_data] Downloading package stopwords to /root/nltk_data...\n",
            "[nltk_data]   Unzipping corpora/stopwords.zip.\n",
            "[nltk_data] Downloading package wordnet to /root/nltk_data...\n"
          ]
        },
        {
          "output_type": "execute_result",
          "data": {
            "text/plain": [
              "True"
            ]
          },
          "metadata": {},
          "execution_count": 44
        }
      ]
    },
    {
      "cell_type": "markdown",
      "source": [
        "Define training corpus"
      ],
      "metadata": {
        "id": "yXNiods0SoNy"
      }
    },
    {
      "cell_type": "code",
      "source": [
        "def load_training_corpus():\n",
        "    file_path='/content/IMDB.csv'\n",
        "    df = pd.read_csv(file_path)\n",
        "    print(df.head())\n",
        "    print(df.head())\n",
        "\n",
        "    print(df.info())\n",
        "    print('check1')\n",
        "    return df['review'].tolist()  # Assuming the column with sentences is named 'sentence'\n",
        "\n",
        "#load_training_corpus()"
      ],
      "metadata": {
        "id": "8W749jOGTA4B"
      },
      "execution_count": 42,
      "outputs": []
    },
    {
      "cell_type": "markdown",
      "source": [
        "Preprocess the Text"
      ],
      "metadata": {
        "id": "OwnqPEbfVJBV"
      }
    },
    {
      "cell_type": "code",
      "source": [
        "def preprocess(text):\n",
        "    return nltk.word_tokenize(text.lower())"
      ],
      "metadata": {
        "id": "t2_y-31_VJ8_"
      },
      "execution_count": 22,
      "outputs": []
    },
    {
      "cell_type": "code",
      "source": [
        "def generate_bigram(training_corpus):\n",
        "  bigram_count=defaultdict(int)\n",
        "  unigram_count=defaultdict(int)\n",
        "\n",
        "  for sentence in training_corpus:\n",
        "    words = preprocess(sentence)\n",
        "    for i in range(len(words) - 1):\n",
        "      bigram = (words[i], words[i + 1])\n",
        "      bigram_count[bigram] +=1\n",
        "      unigram_count[words[i]] += 1\n",
        "    unigram_count[words[-1]] += 1\n",
        "\n",
        "\n",
        "  return bigram_count,unigram_count"
      ],
      "metadata": {
        "id": "9R8gHPGliQaT"
      },
      "execution_count": 23,
      "outputs": []
    },
    {
      "cell_type": "code",
      "source": [
        "def generate_bigram_prob(bigram_count,unigram_count):\n",
        "  bigram_prob ={}\n",
        "  for bigram,count in bigram_count.items():\n",
        "    first_word = bigram[0]\n",
        "    bigram_prob[bigram] = count / unigram_count[first_word]\n",
        "  return bigram_prob\n"
      ],
      "metadata": {
        "id": "qiLBxZpokuBd"
      },
      "execution_count": 24,
      "outputs": []
    },
    {
      "cell_type": "code",
      "source": [
        "def compare_sentences(test_stentence,bigram_prob):\n",
        "  words = preprocess(test_stentence)\n",
        "  total_probability =1.0\n",
        "\n",
        "\n",
        "  for i in range(len(words) - 1):\n",
        "        bigram = (words[i], words[i + 1])\n",
        "        total_probability *= bigram_prob.get(bigram, 0)  # Use 0 if bigram not found\n",
        "\n",
        "  return total_probability\n"
      ],
      "metadata": {
        "id": "uU4gbW3hl7RR"
      },
      "execution_count": 25,
      "outputs": []
    },
    {
      "cell_type": "code",
      "source": [
        "training_corpus = load_training_corpus()\n",
        "bigram_counts, unigram_counts = generate_bigram(training_corpus)\n",
        "bigram_probabilities = generate_bigram_prob(bigram_counts, unigram_counts)\n"
      ],
      "metadata": {
        "colab": {
          "base_uri": "https://localhost:8080/"
        },
        "id": "mafeCnJzmYFh",
        "outputId": "491d5a96-6b93-44f1-a46c-1d65c4f550c1"
      },
      "execution_count": 45,
      "outputs": [
        {
          "output_type": "stream",
          "name": "stdout",
          "text": [
            "   ID                                             review\n",
            "0   1  One of the other reviewers has mentioned that ...\n",
            "1   2  A wonderful little production. <br /><br />The...\n",
            "2   3  I thought this was a wonderful way to spend ti...\n",
            "3   4  Basically there's a family where a little boy ...\n",
            "4   5  Petter Mattei's \"Love in the Time of Money\" is...\n",
            "   ID                                             review\n",
            "0   1  One of the other reviewers has mentioned that ...\n",
            "1   2  A wonderful little production. <br /><br />The...\n",
            "2   3  I thought this was a wonderful way to spend ti...\n",
            "3   4  Basically there's a family where a little boy ...\n",
            "4   5  Petter Mattei's \"Love in the Time of Money\" is...\n",
            "<class 'pandas.core.frame.DataFrame'>\n",
            "RangeIndex: 620 entries, 0 to 619\n",
            "Data columns (total 2 columns):\n",
            " #   Column  Non-Null Count  Dtype \n",
            "---  ------  --------------  ----- \n",
            " 0   ID      620 non-null    int64 \n",
            " 1   review  620 non-null    object\n",
            "dtypes: int64(1), object(1)\n",
            "memory usage: 9.8+ KB\n",
            "None\n",
            "check1\n"
          ]
        }
      ]
    },
    {
      "cell_type": "code",
      "source": [
        "test_sentence_1 = \" Petter Mattei's 'Love in the Time of Money' is a visually stunning film to watch.\"\n",
        "test_sentence_2 = \"I sure would like to see a resurrection of an updated Seahunt series with the tech they have today\"\n",
        "\n",
        "probability_1 = compare_sentences(test_sentence_1, bigram_probabilities)\n",
        "probability_2 = compare_sentences(test_sentence_2, bigram_probabilities)\n",
        "\n",
        "print(f\"Probability of Test Sentence 1: {probability_1}\")\n",
        "print(f\"Probability of Test Sentence 2: {probability_2}\")\n",
        "\n",
        "if probability_1 > probability_2:\n",
        "    print(\"Test Sentence 1 is more relevant.\")\n",
        "else:\n",
        "    print(\"Test Sentence 2 is more relevant.\")"
      ],
      "metadata": {
        "id": "L7fGVCB3m5o_",
        "colab": {
          "base_uri": "https://localhost:8080/"
        },
        "outputId": "3440f7bd-910a-4fca-e7d7-2e37df9a8d36"
      },
      "execution_count": 47,
      "outputs": [
        {
          "output_type": "stream",
          "name": "stdout",
          "text": [
            "Probability of Test Sentence 1: 0.0\n",
            "Probability of Test Sentence 2: 0.0\n",
            "Test Sentence 2 is more relevant.\n"
          ]
        }
      ]
    }
  ]
}